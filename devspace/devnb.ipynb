{
 "cells": [
  {
   "cell_type": "markdown",
   "metadata": {},
   "source": [
    "##### Import dependencies"
   ]
  },
  {
   "cell_type": "code",
   "execution_count": 40,
   "metadata": {},
   "outputs": [],
   "source": [
    "#import ezdxf\n",
    "import numpy as np"
   ]
  },
  {
   "cell_type": "markdown",
   "metadata": {},
   "source": [
    "##### Read the .dat file and delete the rows that contain something other than float"
   ]
  },
  {
   "cell_type": "code",
   "execution_count": 52,
   "metadata": {},
   "outputs": [],
   "source": [
    "foil = np.loadtxt('e211.dat', dtype = 'str')\n",
    "marker = []\n",
    "\n",
    "for row in foil:\n",
    "    try:\n",
    "        row.astype(float)\n",
    "    except:\n",
    "        marker.append(0)\n",
    "    else:\n",
    "        marker.append(1)\n",
    "\n",
    "foil = np.c_[foil, marker]\n",
    "foil = foil[foil[:, 2].astype('int') == 1, 0:2]\n"
   ]
  },
  {
   "cell_type": "markdown",
   "metadata": {},
   "source": [
    "##### Sort the points starting in the trailing edge and rotating over them anti-hourly"
   ]
  },
  {
   "cell_type": "code",
   "execution_count": 65,
   "metadata": {},
   "outputs": [],
   "source": [
    "openTE = foil.shape[0] == np.unique(foil, axis = 0).shape[0]\n",
    "face = [\"S\" for i in range(foil.shape[0])]\n",
    "\n"
   ]
  }
 ],
 "metadata": {
  "kernelspec": {
   "display_name": "Python 3.10.8 ('Engineering')",
   "language": "python",
   "name": "python3"
  },
  "language_info": {
   "codemirror_mode": {
    "name": "ipython",
    "version": 3
   },
   "file_extension": ".py",
   "mimetype": "text/x-python",
   "name": "python",
   "nbconvert_exporter": "python",
   "pygments_lexer": "ipython3",
   "version": "3.10.8"
  },
  "orig_nbformat": 4,
  "vscode": {
   "interpreter": {
    "hash": "262fe23bd922d976477dd56294860e56b2094811b2a3343ffada31346c90c687"
   }
  }
 },
 "nbformat": 4,
 "nbformat_minor": 2
}
